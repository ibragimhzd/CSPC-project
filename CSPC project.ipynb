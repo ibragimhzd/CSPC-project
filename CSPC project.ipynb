{
  "nbformat": 4,
  "nbformat_minor": 0,
  "metadata": {
    "colab": {
      "provenance": []
    },
    "kernelspec": {
      "name": "python3",
      "display_name": "Python 3"
    },
    "language_info": {
      "name": "python"
    }
  },
  "cells": [
    {
      "cell_type": "markdown",
      "source": [
        "\n",
        "\n",
        "Computer Sciences for Physics and Chemistry (L2)\n",
        "---\n",
        "Homework - Monitoring of chemical reaction with NMR\n",
        "---\n",
        "\n",
        "\n",
        "\n",
        "Huseynzada Ibrahim (PE-20)"
      ],
      "metadata": {
        "id": "tm-wsDjpG3mN"
      }
    },
    {
      "cell_type": "markdown",
      "source": [
        "*Importing libraries:*\n",
        "\n",
        "First of all, we need to import all libraries that will be used and give access to files from google drive"
      ],
      "metadata": {
        "id": "X3HmXx2IC0Um"
      }
    },
    {
      "cell_type": "code",
      "source": [
        "from google.colab import drive\n",
        "import pickle\n",
        "import numpy as np\n",
        "import matplotlib.pyplot as plt\n",
        "import pandas as pd\n",
        "from scipy.signal import find_peaks"
      ],
      "metadata": {
        "id": "VjGl2RYSBgzB"
      },
      "execution_count": null,
      "outputs": []
    },
    {
      "cell_type": "markdown",
      "source": [
        "Now, dat file needs to be imported. To do that \"pickle.load()\" function is used"
      ],
      "metadata": {
        "id": "3KcWQtwcDC6O"
      }
    },
    {
      "cell_type": "code",
      "source": [
        "drive.mount('/content/drive')\n",
        "FILE = open('/content/drive/MyDrive/Homework_L2_2022 (1).dat', 'rb')\n",
        "data = pickle.load(FILE)\n",
        "FILE.close()"
      ],
      "metadata": {
        "colab": {
          "base_uri": "https://localhost:8080/"
        },
        "id": "96ozPb5gDKW0",
        "outputId": "34527c4f-1813-4c3b-cbfb-466a466ca37b"
      },
      "execution_count": null,
      "outputs": [
        {
          "output_type": "stream",
          "name": "stdout",
          "text": [
            "Drive already mounted at /content/drive; to attempt to forcibly remount, call drive.mount(\"/content/drive\", force_remount=True).\n"
          ]
        }
      ]
    },
    {
      "cell_type": "markdown",
      "source": [
        "Let's have a look at given data"
      ],
      "metadata": {
        "id": "La70iLkIDd49"
      }
    },
    {
      "cell_type": "code",
      "source": [
        "print(data)"
      ],
      "metadata": {
        "colab": {
          "base_uri": "https://localhost:8080/"
        },
        "id": "hz0J-t8_DhV5",
        "outputId": "930f0e1d-e48b-4298-a7e8-732c0ead42b4"
      },
      "execution_count": null,
      "outputs": [
        {
          "output_type": "stream",
          "name": "stdout",
          "text": [
            "{'title': 'Esterification of Acetic Acid and n-Propanol', 'Pure Spectrums': {'Acetic Acid': array([0.        , 0.1132005 , 0.22640101, ..., 0.        , 0.        ,\n",
            "       0.        ]), 'Propanol': array([   0.        ,    0.        ,    0.        , ..., 4871.33660128,\n",
            "       4870.54470262, 4869.75280395]), 'Propylacetate': array([    0.        ,     0.        ,     0.        , ...,\n",
            "       12797.79032748, 12795.8048483 , 12793.81936912])}, 'Frequency Min': 0, 'Frequency Max': 6.5536, 'Frequency Step': 0.0001, 'Measurements': [{'Time': 0.0, 'Data': array([0.00000000e+00, 2.26401007e+00, 4.52802015e+00, ...,\n",
            "       2.43566830e+05, 2.43527235e+05, 2.43487640e+05])}, {'Time': 0.25, 'Data': array([0.00000000e+00, 1.85341187e+00, 3.70682374e+00, ...,\n",
            "       2.72317477e+05, 2.72273552e+05, 2.72229628e+05])}, {'Time': 0.5, 'Data': array([0.00000000e+00, 1.53750734e+00, 3.07501468e+00, ...,\n",
            "       2.94437543e+05, 2.94390288e+05, 2.94343033e+05])}, {'Time': 0.75, 'Data': array([0.00000000e+00, 1.28866518e+00, 2.57733035e+00, ...,\n",
            "       3.11861811e+05, 3.11811932e+05, 3.11762053e+05])}, {'Time': 1.0, 'Data': array([0.00000000e+00, 1.08898746e+00, 2.17797493e+00, ...,\n",
            "       3.25843517e+05, 3.25791532e+05, 3.25739548e+05])}, {'Time': 1.25, 'Data': array([0.00000000e+00, 9.26367853e-01, 1.85273571e+00, ...,\n",
            "       3.37230364e+05, 3.37176665e+05, 3.37122966e+05])}, {'Time': 1.5, 'Data': array([0.00000000e+00, 7.92322444e-01, 1.58464489e+00, ...,\n",
            "       3.46616406e+05, 3.46561294e+05, 3.46506181e+05])}, {'Time': 1.75, 'Data': array([0.00000000e+00, 6.80728118e-01, 1.36145624e+00, ...,\n",
            "       3.54430393e+05, 3.54374104e+05, 3.54317815e+05])}, {'Time': 2.0, 'Data': array([0.00000000e+00, 5.87054270e-01, 1.17410854e+00, ...,\n",
            "       3.60989564e+05, 3.60932287e+05, 3.60875010e+05])}, {'Time': 2.25, 'Data': array([0.00000000e+00, 5.07876579e-01, 1.01575316e+00, ...,\n",
            "       3.66533694e+05, 3.66475582e+05, 3.66417471e+05])}, {'Time': 2.5, 'Data': array([0.00000000e+00, 4.40558986e-01, 8.81117972e-01, ...,\n",
            "       3.71247363e+05, 3.71188542e+05, 3.71129721e+05])}, {'Time': 2.75, 'Data': array([0.00000000e+00, 3.83039625e-01, 7.66079251e-01, ...,\n",
            "       3.75274947e+05, 3.75215520e+05, 3.75156092e+05])}, {'Time': 3.0, 'Data': array([0.00000000e+00, 3.33683142e-01, 6.67366285e-01, ...,\n",
            "       3.78730956e+05, 3.78671007e+05, 3.78611059e+05])}, {'Time': 3.25, 'Data': array([0.00000000e+00, 2.91176502e-01, 5.82353004e-01, ...,\n",
            "       3.81707329e+05, 3.81646932e+05, 3.81586536e+05])}, {'Time': 3.5, 'Data': array([0.00000000e+00, 2.54454038e-01, 5.08908077e-01, ...,\n",
            "       3.84278686e+05, 3.84217902e+05, 3.84157118e+05])}, {'Time': 3.75, 'Data': array([0.00000000e+00, 2.22642575e-01, 4.45285149e-01, ...,\n",
            "       3.86506168e+05, 3.86445049e+05, 3.86383930e+05])}, {'Time': 4.0, 'Data': array([0.00000000e+00, 1.95020599e-01, 3.90041198e-01, ...,\n",
            "       3.88440296e+05, 3.88378886e+05, 3.88317476e+05])}, {'Time': 4.25, 'Data': array([0.00000000e+00, 1.70987448e-01, 3.41974897e-01, ...,\n",
            "       3.90123130e+05, 3.90061466e+05, 3.89999803e+05])}, {'Time': 4.5, 'Data': array([0.00000000e+00, 1.50039741e-01, 3.00079483e-01, ...,\n",
            "       3.91589917e+05, 3.91528033e+05, 3.91466148e+05])}, {'Time': 4.75, 'Data': array([0.00000000e+00, 1.31753133e-01, 2.63506266e-01, ...,\n",
            "       3.92870370e+05, 3.92808293e+05, 3.92746216e+05])}, {'Time': 5.0, 'Data': array([0.00000000e+00, 1.15768030e-01, 2.31536060e-01, ...,\n",
            "       3.93989669e+05, 3.93927423e+05, 3.93865177e+05])}, {'Time': 5.25, 'Data': array([0.00000000e+00, 1.01778291e-01, 2.03556583e-01, ...,\n",
            "       3.94969250e+05, 3.94906856e+05, 3.94844463e+05])}, {'Time': 5.5, 'Data': array([0.00000000e+00, 8.95222082e-02, 1.79044416e-01, ...,\n",
            "       3.95827437e+05, 3.95764915e+05, 3.95702392e+05])}, {'Time': 5.75, 'Data': array([0.00000000e+00, 7.87752343e-02, 1.57550469e-01, ...,\n",
            "       3.96579955e+05, 3.96517319e+05, 3.96454683e+05])}, {'Time': 6.0, 'Data': array([0.00000000e+00, 6.93440819e-02, 1.38688164e-01, ...,\n",
            "       3.97240337e+05, 3.97177602e+05, 3.97114867e+05])}, {'Time': 6.25, 'Data': array([0.00000000e+00, 6.10618906e-02, 1.22123781e-01, ...,\n",
            "       3.97820268e+05, 3.97757445e+05, 3.97694622e+05])}, {'Time': 6.5, 'Data': array([0.00000000e+00, 5.37842451e-02, 1.07568490e-01, ...,\n",
            "       3.98329858e+05, 3.98266959e+05, 3.98204059e+05])}, {'Time': 6.75, 'Data': array([0.00000000e+00, 4.73858731e-02, 9.47717462e-02, ...,\n",
            "       3.98777881e+05, 3.98714914e+05, 3.98651947e+05])}, {'Time': 7.0, 'Data': array([0.00000000e+00, 4.17578886e-02, 8.35157772e-02, ...,\n",
            "       3.99171960e+05, 3.99108934e+05, 3.99045908e+05])}, {'Time': 7.25, 'Data': array([0.00000000e+00, 3.68054803e-02, 7.36109606e-02, ...,\n",
            "       3.99518735e+05, 3.99455656e+05, 3.99392578e+05])}, {'Time': 7.5, 'Data': array([0.00000000e+00, 3.24459619e-02, 6.48919238e-02, ...,\n",
            "       3.99823994e+05, 3.99760870e+05, 3.99697745e+05])}, {'Time': 7.75, 'Data': array([0.00000000e+00, 2.86071208e-02, 5.72142417e-02, ...,\n",
            "       4.00092795e+05, 4.00029630e+05, 3.99966465e+05])}, {'Time': 8.0, 'Data': array([0.00000000e+00, 2.52258138e-02, 5.04516276e-02, ...,\n",
            "       4.00329559e+05, 4.00266358e+05, 4.00203158e+05])}, {'Time': 8.25, 'Data': array([0.00000000e+00, 2.22467670e-02, 4.44935341e-02, ...,\n",
            "       4.00538156e+05, 4.00474924e+05, 4.00411692e+05])}, {'Time': 8.5, 'Data': array([0.00000000e+00, 1.96215490e-02, 3.92430980e-02, ...,\n",
            "       4.00721977e+05, 4.00658717e+05, 4.00595458e+05])}, {'Time': 8.75, 'Data': array([0.00000000e+00, 1.73076870e-02, 3.46153740e-02, ...,\n",
            "       4.00883997e+05, 4.00820713e+05, 4.00757429e+05])}, {'Time': 9.0, 'Data': array([0.00000000e+00, 1.52679058e-02, 3.05358116e-02, ...,\n",
            "       4.01026825e+05, 4.00963519e+05, 4.00900214e+05])}, {'Time': 9.25, 'Data': array([0.00000000e+00, 1.34694697e-02, 2.69389394e-02, ...,\n",
            "       4.01152754e+05, 4.01089429e+05, 4.01026105e+05])}, {'Time': 9.5, 'Data': array([0.00000000e+00, 1.18836129e-02, 2.37672257e-02, ...,\n",
            "       4.01263798e+05, 4.01200457e+05, 4.01137115e+05])}, {'Time': 9.75, 'Data': array([0.00000000e+00, 1.04850445e-02, 2.09700890e-02, ...,\n",
            "       4.01361727e+05, 4.01298371e+05, 4.01235015e+05])}, {'Time': 10.0, 'Data': array([0.00000000e+00, 9.25151878e-03, 1.85030376e-02, ...,\n",
            "       4.01448101e+05, 4.01384732e+05, 4.01321363e+05])}]}\n"
          ]
        }
      ]
    },
    {
      "cell_type": "markdown",
      "source": [
        "As it was written in homework file, this **.dat** file contains frequency shifts corresponding to the:\n",
        "* first value in NMR spectrums\n",
        "* last value in NMR spectrums\n",
        "* step value in NMR spectrums\n",
        "\n",
        "Therefore data will be sorted with respect to that."
      ],
      "metadata": {
        "id": "VG_abaRTEAQb"
      }
    },
    {
      "cell_type": "code",
      "source": [
        "x = np.arange(data['Frequency Min'], data['Frequency Max'], data['Frequency Step'])"
      ],
      "metadata": {
        "id": "e-cqnHyzExDS"
      },
      "execution_count": null,
      "outputs": []
    },
    {
      "cell_type": "markdown",
      "source": [
        "\n",
        "---\n",
        "**Task 1. Plot the NMR spectrum of ethanoic acid, propanol and propyl-ethanoate.**\n",
        "---\n",
        "\n"
      ],
      "metadata": {
        "id": "wmTjLB0RXhTd"
      }
    },
    {
      "cell_type": "markdown",
      "source": [
        "Now we can plot spectrums for all three solutions"
      ],
      "metadata": {
        "id": "vl766NgbG6lo"
      }
    },
    {
      "cell_type": "markdown",
      "source": [
        "1. Acetic Acid"
      ],
      "metadata": {
        "id": "gGdIKRhekFpJ"
      }
    },
    {
      "cell_type": "code",
      "source": [
        "#Plotting\n",
        "plt.plot(x, data['Pure Spectrums']['Acetic Acid'], color='#41A235', label =\"Data\")\n",
        "plt.legend(bbox_to_anchor = (1.0, 1), loc = 'upper right')\n",
        "plt.title('NMR spectrum of ethanoic acid')\n",
        "plt.xlabel('Frequency shift')\n",
        "plt.ylabel('Signal intensity')"
      ],
      "metadata": {
        "colab": {
          "base_uri": "https://localhost:8080/",
          "height": 313
        },
        "id": "Ouo-tqZUFMLY",
        "outputId": "e0fdf4a7-d41c-4273-c936-8f78c8c47437"
      },
      "execution_count": null,
      "outputs": [
        {
          "output_type": "execute_result",
          "data": {
            "text/plain": [
              "Text(0, 0.5, 'Signal intensity')"
            ]
          },
          "metadata": {},
          "execution_count": 360
        },
        {
          "output_type": "display_data",
          "data": {
            "text/plain": [
              "<Figure size 432x288 with 1 Axes>"
            ],
            "image/png": "[encoded data removed]"
          },
          "metadata": {
            "needs_background": "light"
          }
        }
      ]
    },
    {
      "cell_type": "markdown",
      "source": [
        "2. Propanol"
      ],
      "metadata": {
        "id": "j02EWlWkHRYt"
      }
    },
    {
      "cell_type": "code",
      "source": [
        "#Plotting\n",
        "plt.plot(x, data['Pure Spectrums']['Propanol'], color='#D55C2B', label =\"Data\")\n",
        "plt.legend(bbox_to_anchor = (1.0, 1), loc = 'upper right')\n",
        "plt.title('NMR spectrum of propanol')\n",
        "plt.xlabel('Frequency shift')\n",
        "plt.ylabel('Signal intensity')"
      ],
      "metadata": {
        "colab": {
          "base_uri": "https://localhost:8080/",
          "height": 313
        },
        "id": "eN-O-J0ZJyg3",
        "outputId": "8dd9bc0e-882c-4e18-cac3-d55407117309"
      },
      "execution_count": null,
      "outputs": [
        {
          "output_type": "execute_result",
          "data": {
            "text/plain": [
              "Text(0, 0.5, 'Signal intensity')"
            ]
          },
          "metadata": {},
          "execution_count": 361
        },
        {
          "output_type": "display_data",
          "data": {
            "text/plain": [
              "<Figure size 432x288 with 1 Axes>"
            ],
            "image/png": "[encoded data removed]"
          },
          "metadata": {
            "needs_background": "light"
          }
        }
      ]
    },
    {
      "cell_type": "markdown",
      "source": [
        "3.Propylacetate"
      ],
      "metadata": {
        "id": "LEeyHERDKgue"
      }
    },
    {
      "cell_type": "code",
      "source": [
        "#Plotting\n",
        "plt.plot(x, data['Pure Spectrums']['Propylacetate'], color='#3A9AD1', label =\"Data\")\n",
        "plt.legend(bbox_to_anchor = (1.0, 1), loc = 'upper right')\n",
        "plt.title('NMR spectrum of propanol')\n",
        "plt.xlabel('Frequency shift')\n",
        "plt.ylabel('Signal intensity')"
      ],
      "metadata": {
        "colab": {
          "base_uri": "https://localhost:8080/",
          "height": 313
        },
        "id": "wnbrZENPKfB7",
        "outputId": "f3906e24-fd41-4c4c-8915-bd47486edacb"
      },
      "execution_count": null,
      "outputs": [
        {
          "output_type": "execute_result",
          "data": {
            "text/plain": [
              "Text(0, 0.5, 'Signal intensity')"
            ]
          },
          "metadata": {},
          "execution_count": 362
        },
        {
          "output_type": "display_data",
          "data": {
            "text/plain": [
              "<Figure size 432x288 with 1 Axes>"
            ],
            "image/png": "[encoded data removed]"
          },
          "metadata": {
            "needs_background": "light"
          }
        }
      ]
    },
    {
      "cell_type": "markdown",
      "source": [
        "\n",
        "\n",
        "---\n",
        "\n",
        "**Task 2. Write a function that calculate the position and the intensity of each peak in a NMR spectrum. Apply it to ethanoic acid, propanol and propyl-ethanoate:**\n",
        "---\n",
        "\n"
      ],
      "metadata": {
        "id": "pspAkqS6WdrT"
      }
    },
    {
      "cell_type": "markdown",
      "source": [
        "Now, as it is written above, the fucntion that returns a dictionary with peak values for intensity (as key) and it's correcponding position (as value) has to be written"
      ],
      "metadata": {
        "id": "PpgnxC-nXtiZ"
      }
    },
    {
      "cell_type": "code",
      "source": [
        "def calculate_peaks(x,y,dist: int=1000):\n",
        "    \"\"\"\n",
        "    Calculates the position and intensity of each peak in an NMR spectrum using the findpeaks() function from scipy.signal.\n",
        "\n",
        "    Parameters:\n",
        "      y (list or numpy array): The intensity values.\n",
        "\n",
        "    Returns:\n",
        "      dict: A dictionary where the keys represent the positions of the peaks (x-values) and the values represent the intensities (y-values) of the peaks.\n",
        "    \"\"\"\n",
        "    # Find the peaks in the data\n",
        "    peaks = find_peaks(y,distance=dist)[0]\n",
        "    peak_values = y[peaks]\n",
        "    peaks_dict = {}\n",
        "\n",
        "    # Create a dictionary to store the peak positions and intensities\n",
        "    for i in range(len(peaks)):\n",
        "      peaks_dict[x[peaks[i]]] = peak_values[i]\n",
        "    return peaks_dict\n",
        ""
      ],
      "metadata": {
        "id": "j-St7bLRLgfE"
      },
      "execution_count": null,
      "outputs": []
    },
    {
      "cell_type": "markdown",
      "source": [
        "Plotting NMR spectrum with peak values"
      ],
      "metadata": {
        "id": "ZrSSLayUYPTL"
      }
    },
    {
      "cell_type": "markdown",
      "source": [
        "1. Acetic Acid"
      ],
      "metadata": {
        "id": "McS6QMqWYWAO"
      }
    },
    {
      "cell_type": "code",
      "source": [
        "peaks_acetic_ac = calculate_peaks(x,data['Pure Spectrums']['Acetic Acid'],)\n",
        "print(peaks_acetic_ac)\n",
        "\n",
        "#Plotting\n",
        "acetic_peaks, acetic_values = list(peaks_acetic_ac.keys()), list(peaks_acetic_ac.values())\n",
        "plt.plot(x, data['Pure Spectrums']['Acetic Acid'], color='#41A235', label =\"Data\")\n",
        "plt.plot(acetic_peaks, acetic_values, 'o', color = '#1B450F')\n",
        "plt.legend(bbox_to_anchor = (1.0, 1), loc = 'upper right')\n",
        "plt.title('NMR spectrum of ethanoic acid')\n",
        "plt.xlabel('Frequency shift')\n",
        "plt.ylabel('Signal intensity')"
      ],
      "metadata": {
        "colab": {
          "base_uri": "https://localhost:8080/",
          "height": 332
        },
        "id": "sxLpkwv2YbmL",
        "outputId": "4aa0dea2-75f2-43c7-c24a-d0e55a9ed401"
      },
      "execution_count": null,
      "outputs": [
        {
          "output_type": "stream",
          "name": "stdout",
          "text": [
            "{2.033: 99871694.67365436}\n"
          ]
        },
        {
          "output_type": "execute_result",
          "data": {
            "text/plain": [
              "Text(0, 0.5, 'Signal intensity')"
            ]
          },
          "metadata": {},
          "execution_count": 364
        },
        {
          "output_type": "display_data",
          "data": {
            "text/plain": [
              "<Figure size 432x288 with 1 Axes>"
            ],
            "image/png": "[encoded data removed]"
          },
          "metadata": {
            "needs_background": "light"
          }
        }
      ]
    },
    {
      "cell_type": "markdown",
      "source": [
        "2. Propanol"
      ],
      "metadata": {
        "id": "ys4eZGvjZLMk"
      }
    },
    {
      "cell_type": "code",
      "source": [
        "peaks_propanol = calculate_peaks(x,data['Pure Spectrums']['Propanol'],)\n",
        "print(peaks_propanol)\n",
        "\n",
        "#Plotting\n",
        "propanol_peaks, propanol_values = list(peaks_propanol.keys()), list(peaks_propanol.values())\n",
        "plt.plot(x, data['Pure Spectrums']['Propanol'], color='#D55C2B', label =\"Data\")\n",
        "plt.plot(propanol_peaks, propanol_values, 'o', color = '#45160F')\n",
        "plt.legend(bbox_to_anchor = (1.0, 1), loc = 'upper right')\n",
        "plt.title('NMR spectrum of propanol')\n",
        "plt.xlabel('Frequency shift')\n",
        "plt.ylabel('Signal intensity')"
      ],
      "metadata": {
        "colab": {
          "base_uri": "https://localhost:8080/",
          "height": 332
        },
        "id": "9TCBbxQdZKuc",
        "outputId": "8c48bb63-c849-4969-cd60-e813551edc9c"
      },
      "execution_count": null,
      "outputs": [
        {
          "output_type": "stream",
          "name": "stdout",
          "text": [
            "{0.9208000000000001: 99778335.882657, 1.691: 36581375.182853736, 3.2931000000000004: 67905659.27996491}\n"
          ]
        },
        {
          "output_type": "execute_result",
          "data": {
            "text/plain": [
              "Text(0, 0.5, 'Signal intensity')"
            ]
          },
          "metadata": {},
          "execution_count": 378
        },
        {
          "output_type": "display_data",
          "data": {
            "text/plain": [
              "<Figure size 432x288 with 1 Axes>"
            ],
            "image/png": "[encoded data removed]"
          },
          "metadata": {
            "needs_background": "light"
          }
        }
      ]
    },
    {
      "cell_type": "markdown",
      "source": [
        "3. Propylacetate"
      ],
      "metadata": {
        "id": "vVXQwtdEZMJL"
      }
    },
    {
      "cell_type": "code",
      "source": [
        "peaks_propylacetate = calculate_peaks(x,data['Pure Spectrums']['Propylacetate'],)\n",
        "print(peaks_propylacetate)\n",
        "\n",
        "#Plotting\n",
        "propylacetate_peaks, propylacetate_values = list(peaks_propylacetate.keys()), list(peaks_propylacetate.values())\n",
        "plt.plot(x, data['Pure Spectrums']['Propylacetate'], color='#3A9AD1', label =\"Data\")\n",
        "plt.plot(propylacetate_peaks, propylacetate_values, 'o', color = '#1F4E78')\n",
        "plt.legend(bbox_to_anchor = (1.0, 1), loc = 'upper right')\n",
        "plt.title('NMR spectrum of propylacetate')\n",
        "plt.xlabel('Frequency shift')\n",
        "plt.ylabel('Signal intensity')"
      ],
      "metadata": {
        "colab": {
          "base_uri": "https://localhost:8080/",
          "height": 332
        },
        "id": "QQ0eTTPgZMWM",
        "outputId": "1783cb90-1a33-4cf3-ff31-41a18cb8893e"
      },
      "execution_count": null,
      "outputs": [
        {
          "output_type": "stream",
          "name": "stdout",
          "text": [
            "{0.9088: 49283733.606042445, 1.8105: 19463454.391941655, 2.0380000000000003: 99968316.98965423, 4.13: 33178466.29357612}\n"
          ]
        },
        {
          "output_type": "execute_result",
          "data": {
            "text/plain": [
              "Text(0, 0.5, 'Signal intensity')"
            ]
          },
          "metadata": {},
          "execution_count": 366
        },
        {
          "output_type": "display_data",
          "data": {
            "text/plain": [
              "<Figure size 432x288 with 1 Axes>"
            ],
            "image/png": "[encoded data removed]"
          },
          "metadata": {
            "needs_background": "light"
          }
        }
      ]
    },
    {
      "cell_type": "markdown",
      "source": [
        "\n",
        "---\n",
        "**Task 3. From the initial spectrum (at t=0), estimate the initial concentration of ethanoic acid, propanol and propyl-ethanoate**\n",
        "---\n",
        "\n",
        "\n"
      ],
      "metadata": {
        "id": "FCuPk38bldPf"
      }
    },
    {
      "cell_type": "markdown",
      "source": [
        "To estimate the initial concentration we will need to perform the following steps:\n",
        "\n",
        "* Obtain the initial spectrum (at t=0): We will obtain this from .dat file\n",
        "\n",
        "* Find the peaks in the spectrum: This will be done with the calculate_peaks() function\n",
        "\n",
        "* Determine the wavelength or frequency of each peak: This is the position of the peak on the x-axis of the spectrum.\n",
        "\n",
        "* Use a reference spectrum: By comparing the peaks in the initial spectrum to a spectrum of a known concentration of the compounds.\n",
        "\n",
        "* We will also use the dictionary giving the NMR spectrum, 1 µmol/L solution of each compound"
      ],
      "metadata": {
        "id": "SYYo8k5Mnwnf"
      }
    },
    {
      "cell_type": "code",
      "source": [
        "print(data['Measurements'][0]['Data'])\n",
        "calculate_peaks(x,data['Measurements'][0]['Data'])\n"
      ],
      "metadata": {
        "colab": {
          "base_uri": "https://localhost:8080/"
        },
        "id": "RDnNFPA9ldYv",
        "outputId": "5006851d-046f-4486-848c-e838e492544c"
      },
      "execution_count": null,
      "outputs": [
        {
          "output_type": "stream",
          "name": "stdout",
          "text": [
            "[0.00000000e+00 2.26401007e+00 4.52802015e+00 ... 2.43566830e+05\n",
            " 2.43527235e+05 2.43487640e+05]\n"
          ]
        },
        {
          "output_type": "execute_result",
          "data": {
            "text/plain": [
              "{0.9208000000000001: 4989766400.070689,\n",
              " 1.691: 1844382167.3431742,\n",
              " 2.033: 1998408808.7929869,\n",
              " 3.2931000000000004: 3395336020.7728186}"
            ]
          },
          "metadata": {},
          "execution_count": 391
        }
      ]
    },
    {
      "cell_type": "markdown",
      "source": [
        "Now we write a function to determine initial concentration of each compound"
      ],
      "metadata": {
        "id": "IF22MLqpJyPW"
      }
    },
    {
      "cell_type": "code",
      "source": [
        "def initial_conc(x, y):\n",
        "  \"\"\"\n",
        "  Calculates the concentration of compound in solution\n",
        "\n",
        "  Parameters:\n",
        "    x (dict):  peaks of the mixture\n",
        "    y (dict):  peaks of the pure compound with concentration 1 μmol/L\n",
        "\n",
        "  Returns:\n",
        "    c (float): the concentration of the compound in mixture\n",
        "  \"\"\"\n",
        "\n",
        "  c = np.inf\n",
        "  for i in y.keys():\n",
        "    if i not in x.keys():\n",
        "      return 0\n",
        "    if x[i] / y[i] < c:\n",
        "      c = x[i] / y[i]\n",
        "  return c\n",
        "\n"
      ],
      "metadata": {
        "id": "V1E99GhCrye_"
      },
      "execution_count": null,
      "outputs": []
    },
    {
      "cell_type": "markdown",
      "source": [
        "Thus, we can find the initial concentration for:\n",
        "\n",
        "\n",
        "*   Acetic Acid\n",
        "*   Propanol\n",
        "*   Propylacetate\n",
        "\n"
      ],
      "metadata": {
        "id": "UU9FGRN6w2Ox"
      }
    },
    {
      "cell_type": "code",
      "source": [
        "print(initial_conc(calculate_peaks(x,data['Measurements'][0]['Data']), peaks_acetic_ac))\n",
        "print(initial_conc(calculate_peaks(x,data['Measurements'][0]['Data']), peaks_propanol))\n",
        "print(initial_conc(calculate_peaks(x,data['Measurements'][0]['Data']), peaks_propylacetate))"
      ],
      "metadata": {
        "colab": {
          "base_uri": "https://localhost:8080/"
        },
        "id": "HMdN7UtWta-l",
        "outputId": "8b6f009a-a3fc-479a-b635-800bce6b881e"
      },
      "execution_count": null,
      "outputs": [
        {
          "output_type": "stream",
          "name": "stdout",
          "text": [
            "20.009761677951747\n",
            "50.000781330674585\n",
            "0\n"
          ]
        }
      ]
    },
    {
      "cell_type": "markdown",
      "source": [
        "---\n",
        "**Task 4. Analyze the NMR spectrums to plot the evolution of the concentration of ethanoic acid, propanol and propyl-ethanoate during the reaction**\n",
        "---\n",
        "\n"
      ],
      "metadata": {
        "id": "PykqXJ5s0e-E"
      }
    },
    {
      "cell_type": "markdown",
      "source": [
        "To analyze NMR spectrums and plot the evolution of the concentration of compounds during a reaction, we need to analyze the extracted data to determine the concentration of each compound at each time point."
      ],
      "metadata": {
        "id": "KcrDVp0SzNlS"
      }
    },
    {
      "cell_type": "code",
      "source": [
        "def concentration_time_point(data, peaks, dist: int=50):\n",
        "    \"\"\"\n",
        "    Determines the concentration of each compound at each time point.\n",
        "\n",
        "    Parameters:\n",
        "      data:   data from .dat file\n",
        "      peaks :  peaks of the pure compound with concentration 1 μmol/L\n",
        "\n",
        "    Returns:\n",
        "      сhange_concentration (dict): the concentration of the compound in mixture at each time point\n",
        "\n",
        "    \"\"\"\n",
        "    сhange_concentration = {}\n",
        "    for value in data:\n",
        "      s_peak = calculate_peaks(x,value['Data'],dist=dist)\n",
        "      сhange_concentration[value['Time']] = initial_conc(s_peak, peaks)\n",
        "    return сhange_concentration\n"
      ],
      "metadata": {
        "id": "ifnf_-u_vpgd"
      },
      "execution_count": null,
      "outputs": []
    },
    {
      "cell_type": "code",
      "source": [
        "tp_conc_acetic = concentration_time_point(data['Measurements'], peaks_acetic_ac)\n",
        "tp_conc_propanol= concentration_time_point(data['Measurements'], peaks_propanol)\n",
        "tp_conc_propylacetate = concentration_time_point(data['Measurements'], peaks_propylacetate)\n",
        "\n",
        "#Plotting\n",
        "plt.plot(list(tp_conc_acetic.keys()), list(tp_conc_acetic.values()),color='#41A235', label='Acetic acid')\n",
        "plt.plot(list(tp_conc_propanol.keys()), list(tp_conc_propanol.values()),color='#D55C2B', label='Propanol')\n",
        "plt.plot(list(tp_conc_propylacetate.keys()), list(tp_conc_propylacetate.values()),color='#3A9AD1', label='Propylacetate')\n",
        "plt.legend(bbox_to_anchor = (1.0, 1), loc = 'upper right')\n",
        "plt.xlabel('Time')\n",
        "plt.ylabel('Concentration')"
      ],
      "metadata": {
        "colab": {
          "base_uri": "https://localhost:8080/",
          "height": 297
        },
        "id": "UhqmdEtM2l-d",
        "outputId": "0cf6cb24-2ebb-4f80-ab39-ec8fcb4c7d77"
      },
      "execution_count": null,
      "outputs": [
        {
          "output_type": "execute_result",
          "data": {
            "text/plain": [
              "Text(0, 0.5, 'Concentration')"
            ]
          },
          "metadata": {},
          "execution_count": 397
        },
        {
          "output_type": "display_data",
          "data": {
            "text/plain": [
              "<Figure size 432x288 with 1 Axes>"
            ],
            "image/png": "[encoded data removed]"
          },
          "metadata": {
            "needs_background": "light"
          }
        }
      ]
    },
    {
      "cell_type": "markdown",
      "source": [
        "To estimate the value of the reaction constant k from NMR spectroscopy data, you will need to perform the following steps:\n",
        "\n",
        "\n",
        "[Reactant]/[Product] = kt + 1\n",
        "where [Reactant] and [Product] are the concentrations of the reactant and product, respectively, t is the time elapsed since the start of the reaction, and k is the reaction rate constant.\n",
        "\n",
        "Fit the data to the appropriate kinetic model (first-order or second-order) to obtain an estimate of the reaction rate constant k. This can typically be done using a software program or spreadsheet application.\n",
        "\n"
      ],
      "metadata": {
        "id": "R1NUVNHHGX3q"
      }
    },
    {
      "cell_type": "code",
      "source": [
        "def dv_dt(x):\n",
        "  dv = {}\n",
        "  for i in range(len(x) - 1):\n",
        "    t = list(x.keys())[i]\n",
        "    Δt = list(x.keys())[i+1] - t\n",
        "    dv[t] = (x[t + Δt] - x[t]) / Δt\n",
        "  return dv"
      ],
      "metadata": {
        "id": "WhWp0hsOMHeH"
      },
      "execution_count": null,
      "outputs": []
    },
    {
      "cell_type": "code",
      "source": [
        "def velocity_average(t):\n",
        "  v1 = dv_dt(tp_conc_acetic)[t] * -1    #since those reagents are consumed we multiply them by -1\n",
        "  v2 = dv_dt(tp_conc_propanol)[t] * -1\n",
        "  v3 = dv_dt(tp_conc_propylacetate)[t]\n",
        "  average = np.mean(v1,v2,v3)\n",
        "  return average"
      ],
      "metadata": {
        "id": "0R4uvb4LPTkU"
      },
      "execution_count": null,
      "outputs": []
    },
    {
      "cell_type": "code",
      "source": [
        "estimation_k = []\n",
        "for t in list(tp_conc_acetic.keys())[:-1]:\n",
        "  k = velocity_average(t) / (tp_conc_acetic[t] * tp_conc_propanol[t])\n",
        "  estimation_k.append(k)\n",
        "k = sum(estimation_k) / len(estimation_k)\n",
        "print (k)"
      ],
      "metadata": {
        "id": "jDHQAZrBPTYy"
      },
      "execution_count": null,
      "outputs": []
    }
  ]
}